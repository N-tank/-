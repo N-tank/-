{
  "nbformat": 4,
  "nbformat_minor": 0,
  "metadata": {
    "colab": {
      "name": "simple_deep_learning.ipynb",
      "provenance": [],
      "authorship_tag": "ABX9TyM2AliTqG0Fczqd+KP9rZ0j",
      "include_colab_link": true
    },
    "kernelspec": {
      "name": "python3",
      "display_name": "Python 3"
    },
    "language_info": {
      "name": "python"
    }
  },
  "cells": [
    {
      "cell_type": "markdown",
      "metadata": {
        "id": "view-in-github",
        "colab_type": "text"
      },
      "source": [
        "<a href=\"https://colab.research.google.com/github/N-tank/-/blob/main/simple_deep_learning.ipynb\" target=\"_parent\"><img src=\"https://colab.research.google.com/assets/colab-badge.svg\" alt=\"Open In Colab\"/></a>"
      ]
    },
    {
      "cell_type": "markdown",
      "metadata": {
        "id": "eG_qyxLnrvW0"
      },
      "source": [
        "## シンプルなディープラーニング"
      ]
    },
    {
      "cell_type": "markdown",
      "metadata": {
        "id": "xBSfaAL2snVC"
      },
      "source": [
        "### データの読み込み"
      ]
    },
    {
      "cell_type": "code",
      "metadata": {
        "colab": {
          "base_uri": "https://localhost:8080/"
        },
        "id": "3CwFIHanrsE8",
        "outputId": "e1b0d7a7-43e5-40f8-b2fe-8dfc6a8f93fb"
      },
      "source": [
        "import numpy as np\n",
        "from sklearn import datasets\n",
        "\n",
        "iris=datasets.load_iris()\n",
        "print(iris.data[:10])\n",
        "print(iris.target[:10])\n",
        "print(iris.data.shape)\n",
        "\n"
      ],
      "execution_count": 2,
      "outputs": [
        {
          "output_type": "stream",
          "text": [
            "[[5.1 3.5 1.4 0.2]\n",
            " [4.9 3.  1.4 0.2]\n",
            " [4.7 3.2 1.3 0.2]\n",
            " [4.6 3.1 1.5 0.2]\n",
            " [5.  3.6 1.4 0.2]\n",
            " [5.4 3.9 1.7 0.4]\n",
            " [4.6 3.4 1.4 0.3]\n",
            " [5.  3.4 1.5 0.2]\n",
            " [4.4 2.9 1.4 0.2]\n",
            " [4.9 3.1 1.5 0.1]]\n",
            "[0 0 0 0 0 0 0 0 0 0]\n",
            "(150, 4)\n"
          ],
          "name": "stdout"
        }
      ]
    },
    {
      "cell_type": "code",
      "metadata": {
        "colab": {
          "base_uri": "https://localhost:8080/"
        },
        "id": "8PpDp4Utu6KH",
        "outputId": "8b7404fd-106c-4da0-e2fd-9c0d6b8f578c"
      },
      "source": [
        "from sklearn import preprocessing\n",
        "from keras.utils import np_utils\n",
        "\n",
        "scaler=preprocessing.StandardScaler()\n",
        "scaler.fit(iris.data)\n",
        "x=scaler.transform(iris.data)\n",
        "print(x[:10])\n",
        "\n",
        "t=np_utils.to_categorical(iris.target)\n",
        "print(t[:10])\n",
        "\n"
      ],
      "execution_count": 3,
      "outputs": [
        {
          "output_type": "stream",
          "text": [
            "[[-0.90068117  1.01900435 -1.34022653 -1.3154443 ]\n",
            " [-1.14301691 -0.13197948 -1.34022653 -1.3154443 ]\n",
            " [-1.38535265  0.32841405 -1.39706395 -1.3154443 ]\n",
            " [-1.50652052  0.09821729 -1.2833891  -1.3154443 ]\n",
            " [-1.02184904  1.24920112 -1.34022653 -1.3154443 ]\n",
            " [-0.53717756  1.93979142 -1.16971425 -1.05217993]\n",
            " [-1.50652052  0.78880759 -1.34022653 -1.18381211]\n",
            " [-1.02184904  0.78880759 -1.2833891  -1.3154443 ]\n",
            " [-1.74885626 -0.36217625 -1.34022653 -1.3154443 ]\n",
            " [-1.14301691  0.09821729 -1.2833891  -1.44707648]]\n",
            "[[1. 0. 0.]\n",
            " [1. 0. 0.]\n",
            " [1. 0. 0.]\n",
            " [1. 0. 0.]\n",
            " [1. 0. 0.]\n",
            " [1. 0. 0.]\n",
            " [1. 0. 0.]\n",
            " [1. 0. 0.]\n",
            " [1. 0. 0.]\n",
            " [1. 0. 0.]]\n"
          ],
          "name": "stdout"
        }
      ]
    },
    {
      "cell_type": "code",
      "metadata": {
        "colab": {
          "base_uri": "https://localhost:8080/"
        },
        "id": "nQ96Hi4hyBLN",
        "outputId": "1a74c7a3-10ca-4504-fa0c-8d3207182d25"
      },
      "source": [
        "from sklearn.model_selection import train_test_split\n",
        "\n",
        "x_train, x_test, t_train, t_test =train_test_split(x,t,train_size=0.75)\n",
        "print(x_train.shape)\n",
        "print(x_test.shape)\n",
        "print(t_train.shape)\n",
        "print(t_test.shape)"
      ],
      "execution_count": 4,
      "outputs": [
        {
          "output_type": "stream",
          "text": [
            "(112, 4)\n",
            "(38, 4)\n",
            "(112, 3)\n",
            "(38, 3)\n"
          ],
          "name": "stdout"
        }
      ]
    },
    {
      "cell_type": "markdown",
      "metadata": {
        "id": "9zRmUgQrCZA7"
      },
      "source": [
        "モデルの構築"
      ]
    },
    {
      "cell_type": "code",
      "metadata": {
        "colab": {
          "base_uri": "https://localhost:8080/"
        },
        "id": "uzLZATgWCfR_",
        "outputId": "00fb3adc-6f48-4eaf-fc13-16d38ff4714b"
      },
      "source": [
        "from keras.models import  Sequential\n",
        "from keras.layers import  Dense, Activation\n",
        "\n",
        "model=Sequential()\n",
        "model.add(Dense(32,input_dim=4))\n",
        "model.add(Activation(\"relu\"))\n",
        "model.add(Dense(32))\n",
        "model.add(Activation(\"relu\"))\n",
        "model.add(Dense(3))\n",
        "model.add(Activation(\"softmax\"))\n",
        "model.compile(optimizer=\"sgd\",loss=\"categorical_crossentropy\",metrics=[\"accuracy\"])\n",
        "\n",
        "print(model.summary())\n"
      ],
      "execution_count": 5,
      "outputs": [
        {
          "output_type": "stream",
          "text": [
            "Model: \"sequential\"\n",
            "_________________________________________________________________\n",
            "Layer (type)                 Output Shape              Param #   \n",
            "=================================================================\n",
            "dense (Dense)                (None, 32)                160       \n",
            "_________________________________________________________________\n",
            "activation (Activation)      (None, 32)                0         \n",
            "_________________________________________________________________\n",
            "dense_1 (Dense)              (None, 32)                1056      \n",
            "_________________________________________________________________\n",
            "activation_1 (Activation)    (None, 32)                0         \n",
            "_________________________________________________________________\n",
            "dense_2 (Dense)              (None, 3)                 99        \n",
            "_________________________________________________________________\n",
            "activation_2 (Activation)    (None, 3)                 0         \n",
            "=================================================================\n",
            "Total params: 1,315\n",
            "Trainable params: 1,315\n",
            "Non-trainable params: 0\n",
            "_________________________________________________________________\n",
            "None\n"
          ],
          "name": "stdout"
        }
      ]
    },
    {
      "cell_type": "markdown",
      "metadata": {
        "id": "uoXA1bMiMYtc"
      },
      "source": [
        "学習"
      ]
    },
    {
      "cell_type": "code",
      "metadata": {
        "colab": {
          "base_uri": "https://localhost:8080/"
        },
        "id": "qFJ2ClnXMeiY",
        "outputId": "1aa55a99-890e-45e0-a58d-5381a7154a8b"
      },
      "source": [
        "history = model.fit(x_train, t_train, epochs=30, batch_size=8)"
      ],
      "execution_count": 6,
      "outputs": [
        {
          "output_type": "stream",
          "text": [
            "Epoch 1/30\n",
            "14/14 [==============================] - 1s 2ms/step - loss: 1.2002 - accuracy: 0.2857\n",
            "Epoch 2/30\n",
            "14/14 [==============================] - 0s 1ms/step - loss: 1.0416 - accuracy: 0.4018\n",
            "Epoch 3/30\n",
            "14/14 [==============================] - 0s 1ms/step - loss: 0.9381 - accuracy: 0.4554\n",
            "Epoch 4/30\n",
            "14/14 [==============================] - 0s 1ms/step - loss: 0.8589 - accuracy: 0.6964\n",
            "Epoch 5/30\n",
            "14/14 [==============================] - 0s 2ms/step - loss: 0.7962 - accuracy: 0.7857\n",
            "Epoch 6/30\n",
            "14/14 [==============================] - 0s 2ms/step - loss: 0.7425 - accuracy: 0.8214\n",
            "Epoch 7/30\n",
            "14/14 [==============================] - 0s 1ms/step - loss: 0.6953 - accuracy: 0.8304\n",
            "Epoch 8/30\n",
            "14/14 [==============================] - 0s 2ms/step - loss: 0.6520 - accuracy: 0.8482\n",
            "Epoch 9/30\n",
            "14/14 [==============================] - 0s 2ms/step - loss: 0.6126 - accuracy: 0.8482\n",
            "Epoch 10/30\n",
            "14/14 [==============================] - 0s 2ms/step - loss: 0.5781 - accuracy: 0.8482\n",
            "Epoch 11/30\n",
            "14/14 [==============================] - 0s 2ms/step - loss: 0.5456 - accuracy: 0.8571\n",
            "Epoch 12/30\n",
            "14/14 [==============================] - 0s 2ms/step - loss: 0.5171 - accuracy: 0.8571\n",
            "Epoch 13/30\n",
            "14/14 [==============================] - 0s 2ms/step - loss: 0.4923 - accuracy: 0.8571\n",
            "Epoch 14/30\n",
            "14/14 [==============================] - 0s 2ms/step - loss: 0.4706 - accuracy: 0.8750\n",
            "Epoch 15/30\n",
            "14/14 [==============================] - 0s 2ms/step - loss: 0.4508 - accuracy: 0.8661\n",
            "Epoch 16/30\n",
            "14/14 [==============================] - 0s 2ms/step - loss: 0.4327 - accuracy: 0.8661\n",
            "Epoch 17/30\n",
            "14/14 [==============================] - 0s 2ms/step - loss: 0.4167 - accuracy: 0.8661\n",
            "Epoch 18/30\n",
            "14/14 [==============================] - 0s 1ms/step - loss: 0.4023 - accuracy: 0.8661\n",
            "Epoch 19/30\n",
            "14/14 [==============================] - 0s 2ms/step - loss: 0.3891 - accuracy: 0.8661\n",
            "Epoch 20/30\n",
            "14/14 [==============================] - 0s 2ms/step - loss: 0.3769 - accuracy: 0.8661\n",
            "Epoch 21/30\n",
            "14/14 [==============================] - 0s 2ms/step - loss: 0.3658 - accuracy: 0.8750\n",
            "Epoch 22/30\n",
            "14/14 [==============================] - 0s 2ms/step - loss: 0.3558 - accuracy: 0.8750\n",
            "Epoch 23/30\n",
            "14/14 [==============================] - 0s 2ms/step - loss: 0.3456 - accuracy: 0.8750\n",
            "Epoch 24/30\n",
            "14/14 [==============================] - 0s 2ms/step - loss: 0.3377 - accuracy: 0.8839\n",
            "Epoch 25/30\n",
            "14/14 [==============================] - 0s 2ms/step - loss: 0.3294 - accuracy: 0.8839\n",
            "Epoch 26/30\n",
            "14/14 [==============================] - 0s 2ms/step - loss: 0.3206 - accuracy: 0.8839\n",
            "Epoch 27/30\n",
            "14/14 [==============================] - 0s 2ms/step - loss: 0.3137 - accuracy: 0.8839\n",
            "Epoch 28/30\n",
            "14/14 [==============================] - 0s 2ms/step - loss: 0.3073 - accuracy: 0.8839\n",
            "Epoch 29/30\n",
            "14/14 [==============================] - 0s 1ms/step - loss: 0.2999 - accuracy: 0.8929\n",
            "Epoch 30/30\n",
            "14/14 [==============================] - 0s 2ms/step - loss: 0.2931 - accuracy: 0.8929\n"
          ],
          "name": "stdout"
        }
      ]
    },
    {
      "cell_type": "markdown",
      "metadata": {
        "id": "lA0Kfh_YSEbM"
      },
      "source": [
        "学習の推移"
      ]
    },
    {
      "cell_type": "code",
      "metadata": {
        "colab": {
          "base_uri": "https://localhost:8080/",
          "height": 265
        },
        "id": "ddzgt7iPSO9G",
        "outputId": "f8aef9be-4858-4699-d583-aefeeea86d2a"
      },
      "source": [
        "import matplotlib.pyplot as plt\n",
        "\n",
        "hist_loss=history.history[\"loss\"]\n",
        "hist_acc=history.history[\"accuracy\"]\n",
        "\n",
        "plt.plot(np.arange(len(hist_loss)),hist_loss,label=\"loss\")\n",
        "plt.plot(np.arange(len(hist_acc)),hist_acc,label=\"acc\")\n",
        "plt.legend()\n",
        "plt.show()\n"
      ],
      "execution_count": 7,
      "outputs": [
        {
          "output_type": "display_data",
          "data": {
            "image/png": "[encoded data removed]",
            "text/plain": [
              "<Figure size 432x288 with 1 Axes>"
            ]
          },
          "metadata": {
            "needs_background": "light"
          }
        }
      ]
    },
    {
      "cell_type": "markdown",
      "metadata": {
        "id": "fyxK39n5U2Co"
      },
      "source": [
        "### 評価"
      ]
    },
    {
      "cell_type": "code",
      "metadata": {
        "colab": {
          "base_uri": "https://localhost:8080/"
        },
        "id": "JfiAY5JmU6tR",
        "outputId": "a1c79add-84a1-4052-fdd9-9c5db607b6a9"
      },
      "source": [
        "loss,accuracy =model.evaluate(x_test, t_test)\n",
        "print(loss,accuracy)\n"
      ],
      "execution_count": 8,
      "outputs": [
        {
          "output_type": "stream",
          "text": [
            "2/2 [==============================] - 0s 6ms/step - loss: 0.3514 - accuracy: 0.9211\n",
            "0.3514275848865509 0.9210526347160339\n"
          ],
          "name": "stdout"
        }
      ]
    },
    {
      "cell_type": "markdown",
      "metadata": {
        "id": "l5A6Rj8F4idd"
      },
      "source": [
        ""
      ]
    },
    {
      "cell_type": "markdown",
      "metadata": {
        "id": "vkZOsrYD4lZ8"
      },
      "source": [
        "### 予測"
      ]
    },
    {
      "cell_type": "code",
      "metadata": {
        "colab": {
          "base_uri": "https://localhost:8080/"
        },
        "id": "1COSTS114pdx",
        "outputId": "77415b1c-3e47-4335-a9ad-c8836efddda3"
      },
      "source": [
        "model.predict(x_test)"
      ],
      "execution_count": 9,
      "outputs": [
        {
          "output_type": "execute_result",
          "data": {
            "text/plain": [
              "array([[7.81611502e-02, 4.73253518e-01, 4.48585361e-01],\n",
              "       [8.80531073e-02, 7.31016994e-01, 1.80929869e-01],\n",
              "       [9.42103446e-01, 4.04354520e-02, 1.74611602e-02],\n",
              "       [1.11975677e-01, 3.95342290e-01, 4.92681950e-01],\n",
              "       [9.63294327e-01, 2.17814539e-02, 1.49242198e-02],\n",
              "       [9.58812237e-01, 2.33561769e-02, 1.78315546e-02],\n",
              "       [7.40013346e-02, 1.97160393e-01, 7.28838265e-01],\n",
              "       [9.32894111e-01, 4.04784195e-02, 2.66274437e-02],\n",
              "       [9.68664765e-01, 1.81198306e-02, 1.32154273e-02],\n",
              "       [4.24129255e-02, 2.28405207e-01, 7.29181886e-01],\n",
              "       [9.68238115e-01, 1.77903492e-02, 1.39715113e-02],\n",
              "       [4.40336764e-04, 6.31687269e-02, 9.36390996e-01],\n",
              "       [1.45153955e-01, 2.63026953e-01, 5.91819108e-01],\n",
              "       [7.21104667e-02, 7.26514339e-01, 2.01375172e-01],\n",
              "       [9.48099375e-01, 3.48410346e-02, 1.70595404e-02],\n",
              "       [1.58024594e-01, 6.61536932e-01, 1.80438474e-01],\n",
              "       [7.38952532e-02, 4.76708025e-01, 4.49396819e-01],\n",
              "       [9.36933160e-01, 4.61951979e-02, 1.68716498e-02],\n",
              "       [1.10924512e-01, 6.43642068e-01, 2.45433405e-01],\n",
              "       [7.53529072e-02, 5.67799091e-01, 3.56848061e-01],\n",
              "       [9.43753123e-01, 3.77480164e-02, 1.84988417e-02],\n",
              "       [1.54419597e-02, 1.77062824e-01, 8.07495177e-01],\n",
              "       [6.20466806e-02, 5.09922683e-01, 4.28030610e-01],\n",
              "       [9.09699313e-03, 2.40432829e-01, 7.50470221e-01],\n",
              "       [9.67119038e-01, 2.09152959e-02, 1.19657181e-02],\n",
              "       [8.80910158e-02, 5.77594340e-01, 3.34314644e-01],\n",
              "       [1.57955475e-02, 5.17095700e-02, 9.32494819e-01],\n",
              "       [4.36510853e-02, 7.02406764e-01, 2.53942162e-01],\n",
              "       [9.32116747e-01, 4.75593731e-02, 2.03238185e-02],\n",
              "       [8.46665725e-02, 5.98799467e-01, 3.16533983e-01],\n",
              "       [1.43671467e-03, 2.30869148e-02, 9.75476384e-01],\n",
              "       [1.09332249e-01, 6.62633240e-01, 2.28034571e-01],\n",
              "       [1.25138372e-01, 4.46838915e-01, 4.28022712e-01],\n",
              "       [1.37053905e-02, 1.97721496e-01, 7.88573086e-01],\n",
              "       [2.75752842e-02, 6.72455907e-01, 2.99968749e-01],\n",
              "       [9.83218491e-01, 9.65762977e-03, 7.12377951e-03],\n",
              "       [6.41228333e-02, 6.71783388e-01, 2.64093816e-01],\n",
              "       [9.59914148e-01, 2.41150111e-02, 1.59708317e-02]], dtype=float32)"
            ]
          },
          "metadata": {},
          "execution_count": 9
        }
      ]
    },
    {
      "cell_type": "markdown",
      "metadata": {
        "id": "478G6GGO5rIs"
      },
      "source": [
        "### モデルの保存"
      ]
    },
    {
      "cell_type": "code",
      "metadata": {
        "colab": {
          "base_uri": "https://localhost:8080/"
        },
        "id": "ghxryqTr5zW7",
        "outputId": "0ca919c3-0f91-43e0-f158-2da5da8d970f"
      },
      "source": [
        "from keras.models import  load_model\n",
        "\n",
        "model.save(\"model.h5\")\n",
        "load_model(\"model.h5\")"
      ],
      "execution_count": 10,
      "outputs": [
        {
          "output_type": "execute_result",
          "data": {
            "text/plain": [
              "<keras.engine.sequential.Sequential at 0x7f10707ae6d0>"
            ]
          },
          "metadata": {},
          "execution_count": 10
        }
      ]
    }
  ]
}